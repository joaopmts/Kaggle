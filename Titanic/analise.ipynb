{
 "cells": [
  {
   "cell_type": "markdown",
   "id": "ecb8a49f",
   "metadata": {},
   "source": [
    "# Importanto Base Kaggle"
   ]
  },
  {
   "cell_type": "code",
   "execution_count": 119,
   "id": "63e8ffff",
   "metadata": {},
   "outputs": [],
   "source": [
    "import os\n",
    "import shutil\n",
    "\n",
    "# Criar pasta .kaggle\n",
    "os.makedirs(os.path.expanduser(\"~/.kaggle\"), exist_ok=True)\n",
    "\n",
    "# Mover o arquivo para o local correto\n",
    "shutil.copy(\"kaggle.json\", os.path.expanduser(\"~/.kaggle/kaggle.json\"))\n",
    "\n",
    "# Garantir permissões corretas\n",
    "os.chmod(os.path.expanduser(\"~/.kaggle/kaggle.json\"), 0o600)\n"
   ]
  },
  {
   "cell_type": "code",
   "execution_count": 120,
   "id": "f65d3984",
   "metadata": {},
   "outputs": [
    {
     "name": "stdout",
     "output_type": "stream",
     "text": [
      "titanic.zip: Skipping, found more recently modified local copy (use --force to force download)\n"
     ]
    }
   ],
   "source": [
    "!kaggle competitions download -c titanic"
   ]
  },
  {
   "cell_type": "code",
   "execution_count": 121,
   "id": "cd748bdd",
   "metadata": {},
   "outputs": [],
   "source": [
    "import zipfile\n",
    "\n",
    "with zipfile.ZipFile(\"titanic.zip\", \"r\") as zip_ref:\n",
    "    zip_ref.extractall(\"titanic-data\")"
   ]
  },
  {
   "cell_type": "markdown",
   "id": "6d9f75df",
   "metadata": {},
   "source": [
    "# Analise"
   ]
  },
  {
   "cell_type": "markdown",
   "id": "bb7d3ce5",
   "metadata": {},
   "source": [
    "🚢 Lista de Exercícios – Titanic Dataset (Kaggle)\n",
    "🔹 Parte 1: Compreensão e Exploração Inicial\n",
    "\n",
    "    Carregue o dataset Titanic.\n",
    "\n",
    "    Exiba as primeiras 10 linhas da tabela.\n",
    "\n",
    "    Quantas linhas e colunas há no dataset?\n",
    "\n",
    "    Liste os tipos de dados de cada coluna.\n",
    "\n",
    "    Verifique se há valores nulos no dataset.\n",
    "\n",
    "    Qual a proporção de sobreviventes e não sobreviventes?\n",
    "\n",
    "    Qual a média e a mediana das idades dos passageiros?\n",
    "\n",
    "    Crie um gráfico de barras com a contagem de passageiros por classe (Pclass).\n",
    "\n",
    "🔹 Parte 2: Análise Exploratória (EDA)\n",
    "\n",
    "    Existe relação entre sexo e sobrevivência? Crie um gráfico.\n",
    "\n",
    "    Qual a taxa de sobrevivência por classe (Pclass)?\n",
    "\n",
    "    Qual a idade média dos sobreviventes versus não sobreviventes?\n",
    "\n",
    "    Crie um histograma das idades dos passageiros.\n",
    "\n",
    "    Analise o número de passageiros por porto de embarque (Embarked).\n",
    "\n",
    "    Existe relação entre número de familiares a bordo (SibSp + Parch) e a sobrevivência?\n",
    "\n",
    "    Crie um boxplot da idade por classe (Pclass).\n",
    "\n",
    "🔹 Parte 3: Pré-processamento e Feature Engineering\n",
    "\n",
    "    Preencha os valores nulos da coluna Age.\n",
    "\n",
    "    Crie uma nova coluna chamada FamilySize = SibSp + Parch + 1.\n",
    "\n",
    "    Transforme a coluna Sex em variável numérica.\n",
    "\n",
    "    Aplique one-hot encoding para a coluna Embarked.\n",
    "\n",
    "    Remova colunas irrelevantes como Cabin, Ticket e Name.\n",
    "\n",
    "🔹 Parte 4: Modelagem (Básico)\n",
    "\n",
    "    Separe os dados em conjuntos de treino e teste.\n",
    "\n",
    "    Treine um modelo simples de regressão logística.\n",
    "\n",
    "    Avalie a acurácia do modelo.\n",
    "\n",
    "    Verifique a importância das features utilizadas.\n",
    "\n",
    "    Teste diferentes combinações de features e compare os resultados."
   ]
  },
  {
   "cell_type": "code",
   "execution_count": 122,
   "id": "8b2bcdcf",
   "metadata": {},
   "outputs": [],
   "source": [
    "import pandas as pd\n",
    "import matplotlib.pyplot as plt\n",
    "\n",
    "pd.set_option('display.max_columns', None)\n",
    "pd.set_option('display.max_rows', None)\n",
    "pd.set_option('display.max_colwidth', None)\n",
    "pd.set_option('display.width', 1000)"
   ]
  },
  {
   "cell_type": "code",
   "execution_count": 123,
   "id": "7b56638a",
   "metadata": {},
   "outputs": [],
   "source": [
    "# Carregue o dataset\n",
    "df_train = pd.read_csv(\"titanic-data/train.csv\")"
   ]
  },
  {
   "cell_type": "code",
   "execution_count": 124,
   "id": "8a62e611",
   "metadata": {},
   "outputs": [
    {
     "name": "stdout",
     "output_type": "stream",
     "text": [
      "   PassengerId  Survived  Pclass                                                 Name     Sex   Age  SibSp  Parch            Ticket     Fare Cabin Embarked\n",
      "0            1         0       3                              Braund, Mr. Owen Harris    male  22.0      1      0         A/5 21171   7.2500   NaN        S\n",
      "1            2         1       1  Cumings, Mrs. John Bradley (Florence Briggs Thayer)  female  38.0      1      0          PC 17599  71.2833   C85        C\n",
      "2            3         1       3                               Heikkinen, Miss. Laina  female  26.0      0      0  STON/O2. 3101282   7.9250   NaN        S\n",
      "3            4         1       1         Futrelle, Mrs. Jacques Heath (Lily May Peel)  female  35.0      1      0            113803  53.1000  C123        S\n",
      "4            5         0       3                             Allen, Mr. William Henry    male  35.0      0      0            373450   8.0500   NaN        S\n",
      "5            6         0       3                                     Moran, Mr. James    male   NaN      0      0            330877   8.4583   NaN        Q\n",
      "6            7         0       1                              McCarthy, Mr. Timothy J    male  54.0      0      0             17463  51.8625   E46        S\n",
      "7            8         0       3                       Palsson, Master. Gosta Leonard    male   2.0      3      1            349909  21.0750   NaN        S\n",
      "8            9         1       3    Johnson, Mrs. Oscar W (Elisabeth Vilhelmina Berg)  female  27.0      0      2            347742  11.1333   NaN        S\n",
      "9           10         1       2                  Nasser, Mrs. Nicholas (Adele Achem)  female  14.0      1      0            237736  30.0708   NaN        C\n"
     ]
    }
   ],
   "source": [
    "# Exiba as primeiras 10 linhas da tabela\n",
    "print(df_train.head(10))"
   ]
  },
  {
   "cell_type": "code",
   "execution_count": 125,
   "id": "f716f71b",
   "metadata": {},
   "outputs": [
    {
     "name": "stdout",
     "output_type": "stream",
     "text": [
      "(891, 12)\n"
     ]
    }
   ],
   "source": [
    "# Quantas linhas e colunas há no dataset?\n",
    "print(df_train.shape)"
   ]
  },
  {
   "cell_type": "code",
   "execution_count": 126,
   "id": "e3c3fad2",
   "metadata": {},
   "outputs": [
    {
     "name": "stdout",
     "output_type": "stream",
     "text": [
      "<class 'pandas.core.frame.DataFrame'>\n",
      "RangeIndex: 891 entries, 0 to 890\n",
      "Data columns (total 12 columns):\n",
      " #   Column       Non-Null Count  Dtype  \n",
      "---  ------       --------------  -----  \n",
      " 0   PassengerId  891 non-null    int64  \n",
      " 1   Survived     891 non-null    int64  \n",
      " 2   Pclass       891 non-null    int64  \n",
      " 3   Name         891 non-null    object \n",
      " 4   Sex          891 non-null    object \n",
      " 5   Age          714 non-null    float64\n",
      " 6   SibSp        891 non-null    int64  \n",
      " 7   Parch        891 non-null    int64  \n",
      " 8   Ticket       891 non-null    object \n",
      " 9   Fare         891 non-null    float64\n",
      " 10  Cabin        204 non-null    object \n",
      " 11  Embarked     889 non-null    object \n",
      "dtypes: float64(2), int64(5), object(5)\n",
      "memory usage: 83.7+ KB\n",
      "None\n"
     ]
    }
   ],
   "source": [
    "# Liste o tipo de dado de cada coluna\n",
    "print(df_train.info())"
   ]
  },
  {
   "cell_type": "code",
   "execution_count": 127,
   "id": "348102e4",
   "metadata": {},
   "outputs": [
    {
     "name": "stdout",
     "output_type": "stream",
     "text": [
      "PassengerId      0\n",
      "Survived         0\n",
      "Pclass           0\n",
      "Name             0\n",
      "Sex              0\n",
      "Age            177\n",
      "SibSp            0\n",
      "Parch            0\n",
      "Ticket           0\n",
      "Fare             0\n",
      "Cabin          687\n",
      "Embarked         2\n",
      "dtype: int64\n"
     ]
    }
   ],
   "source": [
    "# Verifique se há valores nulos. Quantos são por coluna?\n",
    "print(df_train.isnull().sum())"
   ]
  },
  {
   "cell_type": "code",
   "execution_count": 128,
   "id": "28bf04ab",
   "metadata": {},
   "outputs": [
    {
     "name": "stdout",
     "output_type": "stream",
     "text": [
      "       PassengerId    Survived      Pclass         Age       SibSp       Parch        Fare\n",
      "count   891.000000  891.000000  891.000000  714.000000  891.000000  891.000000  891.000000\n",
      "mean    446.000000    0.383838    2.308642   29.699118    0.523008    0.381594   32.204208\n",
      "std     257.353842    0.486592    0.836071   14.526497    1.102743    0.806057   49.693429\n",
      "min       1.000000    0.000000    1.000000    0.420000    0.000000    0.000000    0.000000\n",
      "25%     223.500000    0.000000    2.000000   20.125000    0.000000    0.000000    7.910400\n",
      "50%     446.000000    0.000000    3.000000   28.000000    0.000000    0.000000   14.454200\n",
      "75%     668.500000    1.000000    3.000000   38.000000    1.000000    0.000000   31.000000\n",
      "max     891.000000    1.000000    3.000000   80.000000    8.000000    6.000000  512.329200\n"
     ]
    }
   ],
   "source": [
    "print(df_train.describe())"
   ]
  },
  {
   "cell_type": "code",
   "execution_count": 129,
   "id": "ffd6b81b",
   "metadata": {},
   "outputs": [
    {
     "name": "stdout",
     "output_type": "stream",
     "text": [
      "38.38%\n"
     ]
    }
   ],
   "source": [
    "# Qual a proporção de sobreviventes e não sobreviventes?\n",
    "sobreviventes = (df_train['Survived'] == 1).sum()\n",
    "total = (df_train['Survived']).count()\n",
    "percentage = sobreviventes/total\n",
    "\n",
    "print(f\"{percentage:.2%}\")"
   ]
  },
  {
   "cell_type": "code",
   "execution_count": 130,
   "id": "c805ad96",
   "metadata": {},
   "outputs": [
    {
     "name": "stdout",
     "output_type": "stream",
     "text": [
      "29.7\n",
      "28.0\n"
     ]
    }
   ],
   "source": [
    "# Qual a média de idade dos passageiros? E a mediana?\n",
    "media = round((df_train['Age']).mean(),2)\n",
    "mediana = (df_train['Age']).median()\n",
    "print(f\"{media}\")\n",
    "print(f\"{mediana}\")\n"
   ]
  },
  {
   "cell_type": "code",
   "execution_count": 144,
   "id": "bee95a5a",
   "metadata": {},
   "outputs": [
    {
     "data": {
      "image/png": "[encoded data removed]",
      "text/plain": [
       "<Figure size 640x480 with 1 Axes>"
      ]
     },
     "metadata": {},
     "output_type": "display_data"
    }
   ],
   "source": [
    "# Crie um gráfico de barras com a contagem de passageiros por classe\n",
    "\n",
    "contagem = df_train['Pclass'].value_counts().sort_index()\n",
    "graf = contagem.plot(kind='bar')\n",
    "plt.title(f'Contagem de Passageiros por Classe')\n",
    "plt.xlabel('Pclass')\n",
    "plt.xticks(rotation=0)\n",
    "plt.ylabel('Quantidade')\n",
    "\n",
    "for i, valor in enumerate(contagem):\n",
    "    graf.text(i, valor + 5, str(valor), ha='center')\n",
    "\n",
    "plt.show()"
   ]
  },
  {
   "cell_type": "code",
   "execution_count": null,
   "id": "58d5dc39",
   "metadata": {},
   "outputs": [],
   "source": []
  }
 ],
 "metadata": {
  "kernelspec": {
   "display_name": ".venv",
   "language": "python",
   "name": "python3"
  },
  "language_info": {
   "codemirror_mode": {
    "name": "ipython",
    "version": 3
   },
   "file_extension": ".py",
   "mimetype": "text/x-python",
   "name": "python",
   "nbconvert_exporter": "python",
   "pygments_lexer": "ipython3",
   "version": "3.13.5"
  }
 },
 "nbformat": 4,
 "nbformat_minor": 5
}
