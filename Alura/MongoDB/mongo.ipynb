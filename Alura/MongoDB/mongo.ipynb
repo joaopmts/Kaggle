{
 "cells": [
  {
   "cell_type": "markdown",
   "id": "683f2e38",
   "metadata": {},
   "source": [
    "# MongoDB"
   ]
  },
  {
   "cell_type": "code",
   "execution_count": 30,
   "id": "7dc501d2",
   "metadata": {},
   "outputs": [],
   "source": [
    "from pymongo import MongoClient\n",
    "import yfinance as yf\n",
    "import pandas as pd\n",
    "import glob"
   ]
  },
  {
   "cell_type": "markdown",
   "id": "fc7f70a7",
   "metadata": {},
   "source": [
    "Conexao MongoDB"
   ]
  },
  {
   "cell_type": "code",
   "execution_count": 3,
   "id": "443d84fc",
   "metadata": {},
   "outputs": [],
   "source": [
    "client = MongoClient(\"mongodb://localhost:27017/\")"
   ]
  },
  {
   "cell_type": "markdown",
   "id": "5d631edc",
   "metadata": {},
   "source": [
    "Lista Databases"
   ]
  },
  {
   "cell_type": "code",
   "execution_count": 5,
   "id": "314ce529",
   "metadata": {},
   "outputs": [
    {
     "data": {
      "text/plain": [
       "['Alura_Serie', 'admin', 'config', 'local']"
      ]
     },
     "execution_count": 5,
     "metadata": {},
     "output_type": "execute_result"
    }
   ],
   "source": [
    "bancos = client.list_database_names()\n",
    "bancos"
   ]
  },
  {
   "cell_type": "markdown",
   "id": "7d57c249",
   "metadata": {},
   "source": [
    "Cria arquivos para da ticker"
   ]
  },
  {
   "cell_type": "code",
   "execution_count": 29,
   "id": "2af7f1d1",
   "metadata": {},
   "outputs": [],
   "source": [
    "tickers = [\"AAPL\", \"NVDA\"]\n",
    "for ticker in tickers:\n",
    "    df = yf.Ticker(ticker).history(period=\"max\")\n",
    "    df[\"Arquivo\"] = ticker\n",
    "    name = f\"{ticker}.csv\"\n",
    "    df.to_csv(name)"
   ]
  },
  {
   "cell_type": "markdown",
   "id": "13029288",
   "metadata": {},
   "source": [
    "Empilha CSVs"
   ]
  },
  {
   "cell_type": "code",
   "execution_count": 44,
   "id": "e1cdd0a1",
   "metadata": {},
   "outputs": [
    {
     "data": {
      "text/html": [
       "<div>\n",
       "<style scoped>\n",
       "    .dataframe tbody tr th:only-of-type {\n",
       "        vertical-align: middle;\n",
       "    }\n",
       "\n",
       "    .dataframe tbody tr th {\n",
       "        vertical-align: top;\n",
       "    }\n",
       "\n",
       "    .dataframe thead th {\n",
       "        text-align: right;\n",
       "    }\n",
       "</style>\n",
       "<table border=\"1\" class=\"dataframe\">\n",
       "  <thead>\n",
       "    <tr style=\"text-align: right;\">\n",
       "      <th></th>\n",
       "      <th>Date</th>\n",
       "      <th>Open</th>\n",
       "      <th>High</th>\n",
       "      <th>Low</th>\n",
       "      <th>Close</th>\n",
       "      <th>Volume</th>\n",
       "      <th>Dividends</th>\n",
       "      <th>Stock Splits</th>\n",
       "      <th>Arquivo</th>\n",
       "    </tr>\n",
       "  </thead>\n",
       "  <tbody>\n",
       "    <tr>\n",
       "      <th>0</th>\n",
       "      <td>1980-12-12 00:00:00-05:00</td>\n",
       "      <td>0.098597</td>\n",
       "      <td>0.099025</td>\n",
       "      <td>0.098597</td>\n",
       "      <td>0.098597</td>\n",
       "      <td>469033600</td>\n",
       "      <td>0.0</td>\n",
       "      <td>0.0</td>\n",
       "      <td>AAPL</td>\n",
       "    </tr>\n",
       "    <tr>\n",
       "      <th>1</th>\n",
       "      <td>1980-12-15 00:00:00-05:00</td>\n",
       "      <td>0.093881</td>\n",
       "      <td>0.093881</td>\n",
       "      <td>0.093453</td>\n",
       "      <td>0.093453</td>\n",
       "      <td>175884800</td>\n",
       "      <td>0.0</td>\n",
       "      <td>0.0</td>\n",
       "      <td>AAPL</td>\n",
       "    </tr>\n",
       "    <tr>\n",
       "      <th>2</th>\n",
       "      <td>1980-12-16 00:00:00-05:00</td>\n",
       "      <td>0.087022</td>\n",
       "      <td>0.087022</td>\n",
       "      <td>0.086594</td>\n",
       "      <td>0.086594</td>\n",
       "      <td>105728000</td>\n",
       "      <td>0.0</td>\n",
       "      <td>0.0</td>\n",
       "      <td>AAPL</td>\n",
       "    </tr>\n",
       "    <tr>\n",
       "      <th>3</th>\n",
       "      <td>1980-12-17 00:00:00-05:00</td>\n",
       "      <td>0.088737</td>\n",
       "      <td>0.089165</td>\n",
       "      <td>0.088737</td>\n",
       "      <td>0.088737</td>\n",
       "      <td>86441600</td>\n",
       "      <td>0.0</td>\n",
       "      <td>0.0</td>\n",
       "      <td>AAPL</td>\n",
       "    </tr>\n",
       "    <tr>\n",
       "      <th>4</th>\n",
       "      <td>1980-12-18 00:00:00-05:00</td>\n",
       "      <td>0.091309</td>\n",
       "      <td>0.091738</td>\n",
       "      <td>0.091309</td>\n",
       "      <td>0.091309</td>\n",
       "      <td>73449600</td>\n",
       "      <td>0.0</td>\n",
       "      <td>0.0</td>\n",
       "      <td>AAPL</td>\n",
       "    </tr>\n",
       "  </tbody>\n",
       "</table>\n",
       "</div>"
      ],
      "text/plain": [
       "                        Date      Open      High       Low     Close  \\\n",
       "0  1980-12-12 00:00:00-05:00  0.098597  0.099025  0.098597  0.098597   \n",
       "1  1980-12-15 00:00:00-05:00  0.093881  0.093881  0.093453  0.093453   \n",
       "2  1980-12-16 00:00:00-05:00  0.087022  0.087022  0.086594  0.086594   \n",
       "3  1980-12-17 00:00:00-05:00  0.088737  0.089165  0.088737  0.088737   \n",
       "4  1980-12-18 00:00:00-05:00  0.091309  0.091738  0.091309  0.091309   \n",
       "\n",
       "      Volume  Dividends  Stock Splits Arquivo  \n",
       "0  469033600        0.0           0.0    AAPL  \n",
       "1  175884800        0.0           0.0    AAPL  \n",
       "2  105728000        0.0           0.0    AAPL  \n",
       "3   86441600        0.0           0.0    AAPL  \n",
       "4   73449600        0.0           0.0    AAPL  "
      ]
     },
     "execution_count": 44,
     "metadata": {},
     "output_type": "execute_result"
    }
   ],
   "source": [
    "alldata = glob.glob(\"*.csv\")\n",
    "dfs = []\n",
    "for arquivo in alldata:\n",
    "    df = pd.read_csv(arquivo)\n",
    "    dfs.append(df)\n",
    "\n",
    "alldata = pd.concat(dfs, ignore_index=True)\n",
    "alldata.head()"
   ]
  },
  {
   "cell_type": "markdown",
   "id": "50731d88",
   "metadata": {},
   "source": [
    "Grava no MongoDB"
   ]
  },
  {
   "cell_type": "code",
   "execution_count": 45,
   "id": "4fbf8868",
   "metadata": {},
   "outputs": [
    {
     "name": "stdout",
     "output_type": "stream",
     "text": [
      "['series']\n",
      "['series', 'MongoDBTestPython']\n"
     ]
    }
   ],
   "source": [
    "db = client[\"Alura_Serie\"]\n",
    "print(db.list_collection_names())\n",
    "\n",
    "colecao = db[\"MongoDBTestPython\"]\n",
    "\n",
    "alldata = alldata.to_dict(orient=\"records\")\n",
    "colecao.insert_many(alldata)\n",
    "print(db.list_collection_names())"
   ]
  },
  {
   "cell_type": "code",
   "execution_count": null,
   "id": "92d82df7",
   "metadata": {},
   "outputs": [],
   "source": [
    "#Teste"
   ]
  }
 ],
 "metadata": {
  "kernelspec": {
   "display_name": ".venv",
   "language": "python",
   "name": "python3"
  },
  "language_info": {
   "codemirror_mode": {
    "name": "ipython",
    "version": 3
   },
   "file_extension": ".py",
   "mimetype": "text/x-python",
   "name": "python",
   "nbconvert_exporter": "python",
   "pygments_lexer": "ipython3",
   "version": "3.13.5"
  }
 },
 "nbformat": 4,
 "nbformat_minor": 5
}
