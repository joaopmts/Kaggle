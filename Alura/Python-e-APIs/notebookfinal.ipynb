{
 "cells": [
  {
   "cell_type": "code",
   "execution_count": 1,
   "id": "a03d1409",
   "metadata": {},
   "outputs": [],
   "source": [
    "from dados_repos import DadosRepositorios\n",
    "from manipula_dados import ManipulaRepositorios"
   ]
  },
  {
   "cell_type": "code",
   "execution_count": 8,
   "id": "1847c1a6",
   "metadata": {},
   "outputs": [],
   "source": [
    "amazon_rep = DadosRepositorios('amzn')\n",
    "netflix_rep = DadosRepositorios('netflix')\n",
    "spotify_rep = DadosRepositorios('spotify')"
   ]
  },
  {
   "cell_type": "code",
   "execution_count": 9,
   "id": "e7aef949",
   "metadata": {},
   "outputs": [],
   "source": [
    "df_amazon = amazon_rep.cria_df_linguagens()\n",
    "df_netflix = netflix_rep.cria_df_linguagens()\n",
    "df_spotify = spotify_rep.cria_df_linguagens()\n",
    "\n",
    "df_amazon.to_csv('amnz.csv')\n",
    "df_netflix.to_csv('netflix.csv')\n",
    "df_spotify.to_csv('spotify.csv')"
   ]
  },
  {
   "cell_type": "code",
   "execution_count": 7,
   "id": "416c730e",
   "metadata": {},
   "outputs": [
    {
     "name": "stdout",
     "output_type": "stream",
     "text": [
      "Commit e push realizados com sucesso.\n"
     ]
    }
   ],
   "source": [
    "manipulador = ManipulaRepositorios(\"joaopmts\")\n",
    "manipulador.commit_repo(r\"C:\\Users\\JOAO PC\\Documents\\VSCode\\Kaggle\")"
   ]
  },
  {
   "cell_type": "code",
   "execution_count": null,
   "id": "a93aad29",
   "metadata": {},
   "outputs": [],
   "source": []
  }
 ],
 "metadata": {
  "kernelspec": {
   "display_name": ".venv",
   "language": "python",
   "name": "python3"
  },
  "language_info": {
   "codemirror_mode": {
    "name": "ipython",
    "version": 3
   },
   "file_extension": ".py",
   "mimetype": "text/x-python",
   "name": "python",
   "nbconvert_exporter": "python",
   "pygments_lexer": "ipython3",
   "version": "3.13.5"
  }
 },
 "nbformat": 4,
 "nbformat_minor": 5
}
