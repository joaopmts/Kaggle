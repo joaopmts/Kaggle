{
 "cells": [
  {
   "cell_type": "code",
   "execution_count": 8,
   "id": "7b168d96",
   "metadata": {},
   "outputs": [],
   "source": [
    "import requests"
   ]
  },
  {
   "cell_type": "code",
   "execution_count": 9,
   "id": "47b9f6b0",
   "metadata": {},
   "outputs": [
    {
     "data": {
      "text/plain": [
       "<Response [200]>"
      ]
     },
     "execution_count": 9,
     "metadata": {},
     "output_type": "execute_result"
    }
   ],
   "source": [
    "r = requests.get('https://api.github.com/events')\n",
    "r"
   ]
  },
  {
   "cell_type": "code",
   "execution_count": 10,
   "id": "57ea9627",
   "metadata": {},
   "outputs": [],
   "source": [
    "headers = {'X-GitHub-Api-Version':'2022-11-28'}\n",
    "api_base_url = 'https://api.github.com'\n",
    "owner = 'amzn'\n",
    "url = f'{api_base_url}/users/{owner}/repos'"
   ]
  },
  {
   "cell_type": "code",
   "execution_count": 11,
   "id": "31119cac",
   "metadata": {},
   "outputs": [
    {
     "name": "stdout",
     "output_type": "stream",
     "text": [
      "200\n",
      "30\n"
     ]
    }
   ],
   "source": [
    "response = requests.get(url, headers=headers)\n",
    "print(response.status_code)\n",
    "print(len(response.json()))"
   ]
  },
  {
   "cell_type": "markdown",
   "id": "38fb5f20",
   "metadata": {},
   "source": [
    "Autenticacao e Paginacao"
   ]
  },
  {
   "cell_type": "code",
   "execution_count": null,
   "id": "8855df88",
   "metadata": {},
   "outputs": [],
   "source": [
    "access_token = getpass.getpass(\"Digite Token\")\n",
    "headers = {'Authorization':'Bearer' + access_token,\n",
    "           'X-GitHub-Api-Version':'2022-11-28'}"
   ]
  },
  {
   "cell_type": "code",
   "execution_count": 13,
   "id": "79a40568",
   "metadata": {},
   "outputs": [
    {
     "data": {
      "text/plain": [
       "'https://api.github.com/users/amzn/repos'"
      ]
     },
     "execution_count": 13,
     "metadata": {},
     "output_type": "execute_result"
    }
   ],
   "source": [
    "url"
   ]
  },
  {
   "cell_type": "code",
   "execution_count": null,
   "id": "bf1d4eca",
   "metadata": {},
   "outputs": [],
   "source": [
    "repos_list = []\n",
    "for page_num in range(1,7):\n",
    "    try:\n",
    "        url_page = f'{url}?page={page_num}'\n",
    "        response = requests.get(url_page, headers=headers)\n",
    "        repos_list.append(response.json())\n",
    "    except:\n",
    "        repos_list.appen(None)"
   ]
  },
  {
   "cell_type": "code",
   "execution_count": null,
   "id": "0335123d",
   "metadata": {},
   "outputs": [],
   "source": [
    "repos_name = []\n",
    "for page in repos_list:\n",
    "    for repo in page:\n",
    "        repos_name.append(repo['name'])\n",
    "\n",
    "repos_language = []\n",
    "for page in repos_list:\n",
    "    for repo in page:\n",
    "        repos_language.append(repo['language'])"
   ]
  },
  {
   "cell_type": "code",
   "execution_count": null,
   "id": "ad4380d6",
   "metadata": {},
   "outputs": [
    {
     "data": {
      "text/plain": [
       "162"
      ]
     },
     "execution_count": 21,
     "metadata": {},
     "output_type": "execute_result"
    }
   ],
   "source": [
    "len(repos_language)"
   ]
  },
  {
   "cell_type": "code",
   "execution_count": null,
   "id": "1dc84d97",
   "metadata": {},
   "outputs": [],
   "source": [
    "import pandas as pd"
   ]
  },
  {
   "cell_type": "code",
   "execution_count": null,
   "id": "689b4d6c",
   "metadata": {},
   "outputs": [],
   "source": [
    "dadosamzn = pd.DataFrame()\n",
    "dadosamzn['repo_name'] = repos_name\n",
    "dadosamzn['language'] = repos_language"
   ]
  },
  {
   "cell_type": "code",
   "execution_count": null,
   "id": "25b02888",
   "metadata": {},
   "outputs": [
    {
     "data": {
      "text/html": [
       "<div>\n",
       "<style scoped>\n",
       "    .dataframe tbody tr th:only-of-type {\n",
       "        vertical-align: middle;\n",
       "    }\n",
       "\n",
       "    .dataframe tbody tr th {\n",
       "        vertical-align: top;\n",
       "    }\n",
       "\n",
       "    .dataframe thead th {\n",
       "        text-align: right;\n",
       "    }\n",
       "</style>\n",
       "<table border=\"1\" class=\"dataframe\">\n",
       "  <thead>\n",
       "    <tr style=\"text-align: right;\">\n",
       "      <th></th>\n",
       "      <th>repo_name</th>\n",
       "      <th>language</th>\n",
       "    </tr>\n",
       "  </thead>\n",
       "  <tbody>\n",
       "    <tr>\n",
       "      <th>0</th>\n",
       "      <td>.github</td>\n",
       "      <td>None</td>\n",
       "    </tr>\n",
       "    <tr>\n",
       "      <th>1</th>\n",
       "      <td>ads-advanced-tools-docs</td>\n",
       "      <td>Jupyter Notebook</td>\n",
       "    </tr>\n",
       "    <tr>\n",
       "      <th>2</th>\n",
       "      <td>ads-pao-amznjs-gtm-server-side-template</td>\n",
       "      <td>Smarty</td>\n",
       "    </tr>\n",
       "    <tr>\n",
       "      <th>3</th>\n",
       "      <td>ads-pao-amznjs-gtm-template</td>\n",
       "      <td>Smarty</td>\n",
       "    </tr>\n",
       "    <tr>\n",
       "      <th>4</th>\n",
       "      <td>alexa-coho</td>\n",
       "      <td>JavaScript</td>\n",
       "    </tr>\n",
       "    <tr>\n",
       "      <th>...</th>\n",
       "      <td>...</td>\n",
       "      <td>...</td>\n",
       "    </tr>\n",
       "    <tr>\n",
       "      <th>157</th>\n",
       "      <td>zeek-plugin-enip</td>\n",
       "      <td>Zeek</td>\n",
       "    </tr>\n",
       "    <tr>\n",
       "      <th>158</th>\n",
       "      <td>zeek-plugin-profinet</td>\n",
       "      <td>Zeek</td>\n",
       "    </tr>\n",
       "    <tr>\n",
       "      <th>159</th>\n",
       "      <td>zeek-plugin-s7comm</td>\n",
       "      <td>Zeek</td>\n",
       "    </tr>\n",
       "    <tr>\n",
       "      <th>160</th>\n",
       "      <td>zeek-plugin-tds</td>\n",
       "      <td>Zeek</td>\n",
       "    </tr>\n",
       "    <tr>\n",
       "      <th>161</th>\n",
       "      <td>zero-shot-rlhr</td>\n",
       "      <td>Python</td>\n",
       "    </tr>\n",
       "  </tbody>\n",
       "</table>\n",
       "<p>162 rows × 2 columns</p>\n",
       "</div>"
      ],
      "text/plain": [
       "                                   repo_name          language\n",
       "0                                    .github              None\n",
       "1                    ads-advanced-tools-docs  Jupyter Notebook\n",
       "2    ads-pao-amznjs-gtm-server-side-template            Smarty\n",
       "3                ads-pao-amznjs-gtm-template            Smarty\n",
       "4                                 alexa-coho        JavaScript\n",
       "..                                       ...               ...\n",
       "157                         zeek-plugin-enip              Zeek\n",
       "158                     zeek-plugin-profinet              Zeek\n",
       "159                       zeek-plugin-s7comm              Zeek\n",
       "160                          zeek-plugin-tds              Zeek\n",
       "161                           zero-shot-rlhr            Python\n",
       "\n",
       "[162 rows x 2 columns]"
      ]
     },
     "execution_count": 24,
     "metadata": {},
     "output_type": "execute_result"
    }
   ],
   "source": [
    "dadosamzn"
   ]
  },
  {
   "cell_type": "code",
   "execution_count": null,
   "id": "76e784b9",
   "metadata": {},
   "outputs": [],
   "source": [
    "dadosamzn.to_csv('amazon.csv')"
   ]
  },
  {
   "cell_type": "markdown",
   "id": "52c21e20",
   "metadata": {},
   "source": [
    "#Armazenando Dados"
   ]
  },
  {
   "cell_type": "code",
   "execution_count": 15,
   "id": "04850977",
   "metadata": {},
   "outputs": [
    {
     "data": {
      "text/plain": [
       "'https://api.github.com/user/repos'"
      ]
     },
     "execution_count": 15,
     "metadata": {},
     "output_type": "execute_result"
    }
   ],
   "source": [
    "url = f'{api_base_url}/user/repos'\n",
    "url"
   ]
  },
  {
   "cell_type": "code",
   "execution_count": null,
   "id": "75bc73b8",
   "metadata": {},
   "outputs": [],
   "source": [
    "#criando repositorio\n",
    "data = {\n",
    "    'name':'linguagem-utilizadas',\n",
    "    'description':'Repositorio com linhaguens de programacao Amazon',\n",
    "    'private':False\n",
    "}\n",
    "\n",
    "response = requests.post(url, json=data,headers=headers)\n",
    "response.status_code"
   ]
  },
  {
   "cell_type": "code",
   "execution_count": 17,
   "id": "be1ba890",
   "metadata": {},
   "outputs": [],
   "source": [
    "import base64"
   ]
  },
  {
   "cell_type": "code",
   "execution_count": null,
   "id": "9166756a",
   "metadata": {},
   "outputs": [],
   "source": [
    "#encode do arquivo em base 64\n",
    "with open('amazon.csv', 'rb') as file:\n",
    "    file_content = file.read()\n",
    "\n",
    "encoded = base64.b64encode(file_content)"
   ]
  },
  {
   "cell_type": "code",
   "execution_count": 19,
   "id": "8c7eb4e1",
   "metadata": {},
   "outputs": [
    {
     "data": {
      "text/plain": [
       "'https://api.github.com/repos/joaopmts/linguagem-utilizadas/contents/amazon.csv'"
      ]
     },
     "execution_count": 19,
     "metadata": {},
     "output_type": "execute_result"
    }
   ],
   "source": [
    "username = 'joaopmts'\n",
    "repo = 'linguagem-utilizadas'\n",
    "path = 'amazon.csv'\n",
    "\n",
    "url = f'{api_base_url}/repos/{username}/{repo}/contents/{path}'\n",
    "url"
   ]
  },
  {
   "cell_type": "code",
   "execution_count": null,
   "id": "4442d4f4",
   "metadata": {},
   "outputs": [],
   "source": [
    "data = {\n",
    "    'message' : 'Adicionando um novo arquivo',\n",
    "    'content':encoded.decode('utf-8')\n",
    "}\n",
    "\n",
    "response = request.put(url, json=data, headers=headers)\n",
    "response.status_code"
   ]
  }
 ],
 "metadata": {
  "kernelspec": {
   "display_name": ".venv",
   "language": "python",
   "name": "python3"
  },
  "language_info": {
   "codemirror_mode": {
    "name": "ipython",
    "version": 3
   },
   "file_extension": ".py",
   "mimetype": "text/x-python",
   "name": "python",
   "nbconvert_exporter": "python",
   "pygments_lexer": "ipython3",
   "version": "3.13.5"
  }
 },
 "nbformat": 4,
 "nbformat_minor": 5
}
